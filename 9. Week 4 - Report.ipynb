{
    "nbformat_minor": 1, 
    "cells": [
        {
            "source": "# Capstone Project - The Battle of Neighborhoods", 
            "cell_type": "markdown", 
            "metadata": {}
        }, 
        {
            "source": "## 1.\tThe problem and discussion of the background", 
            "cell_type": "markdown", 
            "attachments": {}, 
            "metadata": {
                "collapsed": true
            }
        }, 
        {
            "source": "The problem that will be addressed in this assignment is the lack of insight in the best business opportunities for entrepreneurs starting a new business in the Netherlands. \n\nEach year many new businesses are started, but a significant part fails very shortly thereafter and is forced to close down. One of the main reasons for this is the fact that the business owners have not sufficiently evaluated the business case for their start-up based on a cost benefit analysis. A lot of individual data is available online, both about the economic situation in the Netherlands per location and about the competition. However, there are two main problems that prevent entrepreneurs using it to their advantage.\nIn the first place, this data is currently dispersed across separate data sources online. And second, the data from these data sources is not correlated in a way that can be easily used to gain an insight to make an informed decision.\n\nThe goal of the work in this project is create a solution that can advise an entrepreneur who wants to start a new business (for example in Amsterdam) about what type of business it should be (e.g. a pizzeria or a coffee shop) and in which neighborhood to do that so that it has the best chance of being profitable. ", 
            "cell_type": "markdown", 
            "metadata": {}
        }, 
        {
            "source": "## 2. The data and how it will be used to solve the problem", 
            "cell_type": "markdown", 
            "metadata": {}
        }, 
        {
            "source": "To solve this problem, two main aspects will need to be evaluated for all potential areas \u2013 the revenue potential and the cost for starting a business. Then these two can be combined to provide the best advice.\n\nIn the first place, the revenue potential in different areas needs to be quantified. This should give an indication of how much revenue the new business can expect to get in a specific neighborhood. For this, Foursquare data can be used by aggregating the individual data of the venues per area. This will include information about how popular an area is, for example based on the number of check-ins, and what can a business in that area charge customers, for example based on the \u2018Price\u2019 rating of the venues. Furthermore, all of this venue data will need to be kept per venue \u2018Category\u2019. In this way, the solution will be able to also advise on the type of business to start, such as a pizza place for example.\n\nThe second aspect to quantify is the potential investment required to start a business in different locations. To do this, we will make an approximation of the cost for starting a business in a specific location based on the property prices for that location \u2013 either for renting or buying. This will be taken as a simplification as it can be the main investment cost for starting a restaurant or a bar and is much more location specific compared to costs such as labor, cost of goods sold and operational overhead costs (e.g. administration etc). The needed property data will be collected from a second online data source by scraping the online property listings from www.funda.nl. The data collected will include at least the postal code, address and property value (buy or rent).\n\nIn the end, combining these 2 quantified aspects (revenue potential and investment cost) an analysis will be run to identify the most optimal combination of the two, the locations where that is the case and the type of venue to choose. The data will be correlated based on the postal code of the locations which is contained both the Foursquare data set and the only property listings data. In this way, we will answer the question for the entrepreneur of what type of business to start and where so that he/she has the best chance of being profitable and build a successful business. \n", 
            "cell_type": "markdown", 
            "metadata": {}
        }, 
        {
            "execution_count": null, 
            "cell_type": "code", 
            "metadata": {}, 
            "outputs": [], 
            "source": ""
        }
    ], 
    "metadata": {
        "kernelspec": {
            "display_name": "Python 3.6", 
            "name": "python3", 
            "language": "python"
        }, 
        "language_info": {
            "mimetype": "text/x-python", 
            "nbconvert_exporter": "python", 
            "version": "3.6.8", 
            "name": "python", 
            "file_extension": ".py", 
            "pygments_lexer": "ipython3", 
            "codemirror_mode": {
                "version": 3, 
                "name": "ipython"
            }
        }
    }, 
    "nbformat": 4
}